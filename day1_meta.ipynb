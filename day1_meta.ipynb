{
  "nbformat": 4,
  "nbformat_minor": 0,
  "metadata": {
    "colab": {
      "name": "day1_meta.ipynb",
      "provenance": [],
      "toc_visible": true,
      "mount_file_id": "160Zgo4H3x-3SwieHmhWdfnFxm4hhDXNh",
      "authorship_tag": "ABX9TyNQo+WUOasPfHabegStN9f9",
      "include_colab_link": true
    },
    "kernelspec": {
      "name": "python3",
      "display_name": "Python 3"
    }
  },
  "cells": [
    {
      "cell_type": "markdown",
      "metadata": {
        "id": "view-in-github",
        "colab_type": "text"
      },
      "source": [
        "<a href=\"https://colab.research.google.com/github/rossann9119/dw_matrix_car/blob/master/day1_meta.ipynb\" target=\"_parent\"><img src=\"https://colab.research.google.com/assets/colab-badge.svg\" alt=\"Open In Colab\"/></a>"
      ]
    },
    {
      "cell_type": "code",
      "metadata": {
        "id": "oPCWG9n2o0_P",
        "colab_type": "code",
        "outputId": "5f10b517-65ad-4b20-bba3-e8b30ed52488",
        "colab": {
          "base_uri": "https://localhost:8080/",
          "height": 54
        }
      },
      "source": [
        "ls \"/content/drive/My Drive/Colab Notebooks/matrix\""
      ],
      "execution_count": 0,
      "outputs": [
        {
          "output_type": "stream",
          "text": [
            "ls: cannot access '/content/drive/My Drive/Colab Notebooks/matrix': No such file or directory\n"
          ],
          "name": "stdout"
        }
      ]
    },
    {
      "cell_type": "code",
      "metadata": {
        "id": "WmXa1p7Ipnt8",
        "colab_type": "code",
        "colab": {}
      },
      "source": [
        "!mkdir -p \"/content/drive/My Drive/Colab Notebooks/matrix/matrix_two\""
      ],
      "execution_count": 0,
      "outputs": []
    },
    {
      "cell_type": "code",
      "metadata": {
        "id": "sKXFWLZ1p8ei",
        "colab_type": "code",
        "colab": {}
      },
      "source": [
        "ls \"/content/drive/My Drive/Colab Notebooks/matrix/matrix_two\""
      ],
      "execution_count": 0,
      "outputs": []
    },
    {
      "cell_type": "code",
      "metadata": {
        "id": "UPBowtwnqPry",
        "colab_type": "code",
        "outputId": "1f6678f0-0d28-4758-c6ea-ff3297b7f826",
        "colab": {
          "base_uri": "https://localhost:8080/",
          "height": 34
        }
      },
      "source": [
        "cd \"/content/drive/My Drive/Colab Notebooks/matrix/matrix_two\""
      ],
      "execution_count": 0,
      "outputs": [
        {
          "output_type": "stream",
          "text": [
            "/content/drive/My Drive/Colab Notebooks/matrix/matrix_two\n"
          ],
          "name": "stdout"
        }
      ]
    },
    {
      "cell_type": "code",
      "metadata": {
        "id": "ePyIlznwqJ7a",
        "colab_type": "code",
        "outputId": "1e950e52-d9e4-4b93-eb2b-95ac0dbf9d83",
        "colab": {
          "base_uri": "https://localhost:8080/",
          "height": 34
        }
      },
      "source": [
        "!pwd"
      ],
      "execution_count": 0,
      "outputs": [
        {
          "output_type": "stream",
          "text": [
            "/content/drive/My Drive/Colab Notebooks/matrix/matrix_two\n"
          ],
          "name": "stdout"
        }
      ]
    },
    {
      "cell_type": "code",
      "metadata": {
        "id": "OAJBBcjvqk-L",
        "colab_type": "code",
        "colab": {}
      },
      "source": [
        "GITHUB_TOKEN = 'bec13d0ac7f577403074820867ec8f4dc33ad417'\n",
        "GITHUB_URL = 'https://{}@github.com/rossann9119/dw_matrix_car.git'.format(GITHUB_TOKEN)"
      ],
      "execution_count": 0,
      "outputs": []
    },
    {
      "cell_type": "code",
      "metadata": {
        "id": "4BJPFFDTrZeq",
        "colab_type": "code",
        "outputId": "67af0ebb-c561-40dc-d1f4-d06fb2fe2cdf",
        "colab": {
          "base_uri": "https://localhost:8080/",
          "height": 123
        }
      },
      "source": [
        "!git clone $GITHUB_URL"
      ],
      "execution_count": 0,
      "outputs": [
        {
          "output_type": "stream",
          "text": [
            "Cloning into 'dw_matrix_car'...\n",
            "remote: Enumerating objects: 5, done.\u001b[K\n",
            "remote: Counting objects: 100% (5/5), done.\u001b[K\n",
            "remote: Compressing objects: 100% (4/4), done.\u001b[K\n",
            "remote: Total 5 (delta 0), reused 0 (delta 0), pack-reused 0\u001b[K\n",
            "Unpacking objects: 100% (5/5), done.\n"
          ],
          "name": "stdout"
        }
      ]
    },
    {
      "cell_type": "code",
      "metadata": {
        "id": "n-0OZ7LVriR1",
        "colab_type": "code",
        "outputId": "77fd8221-8d60-4eed-d7e0-e1e514cbf582",
        "colab": {
          "base_uri": "https://localhost:8080/",
          "height": 34
        }
      },
      "source": [
        "ls"
      ],
      "execution_count": 0,
      "outputs": [
        {
          "output_type": "stream",
          "text": [
            "car.h5\n"
          ],
          "name": "stdout"
        }
      ]
    },
    {
      "cell_type": "code",
      "metadata": {
        "id": "vCKRPu6orpXq",
        "colab_type": "code",
        "outputId": "6f4dd8bc-b4f6-4f5e-e6a8-d8595e6c8875",
        "colab": {
          "base_uri": "https://localhost:8080/",
          "height": 52
        }
      },
      "source": [
        "cd dw_matrix_car"
      ],
      "execution_count": 0,
      "outputs": [
        {
          "output_type": "stream",
          "text": [
            "[Errno 2] No such file or directory: 'dw_matrix_car'\n",
            "/content/drive/My Drive/Colab Notebooks/matrix/matrix_two/dw_matrix_car/data\n"
          ],
          "name": "stdout"
        }
      ]
    },
    {
      "cell_type": "code",
      "metadata": {
        "id": "ARjaumE9rvb-",
        "colab_type": "code",
        "colab": {}
      },
      "source": [
        "!mkdir data"
      ],
      "execution_count": 0,
      "outputs": []
    },
    {
      "cell_type": "code",
      "metadata": {
        "id": "q-PYIYS2ry-C",
        "colab_type": "code",
        "colab": {}
      },
      "source": [
        "!echo -e \"*\\n!.gitignore\" > data/.gitignore"
      ],
      "execution_count": 0,
      "outputs": []
    },
    {
      "cell_type": "code",
      "metadata": {
        "id": "5ASGqeepsEBU",
        "colab_type": "code",
        "colab": {}
      },
      "source": [
        "!git add data/.gitignore"
      ],
      "execution_count": 0,
      "outputs": []
    },
    {
      "cell_type": "code",
      "metadata": {
        "id": "r_YxameTsJ3M",
        "colab_type": "code",
        "outputId": "fcc8ebbd-c00c-41d9-80ba-ae1fa019e042",
        "colab": {
          "base_uri": "https://localhost:8080/",
          "height": 70
        }
      },
      "source": [
        "!git commit -m \"add data directory\""
      ],
      "execution_count": 0,
      "outputs": [
        {
          "output_type": "stream",
          "text": [
            "[master 1739e1a] add data directory\n",
            " 1 file changed, 2 insertions(+)\n",
            " create mode 100644 data/.gitignore\n"
          ],
          "name": "stdout"
        }
      ]
    },
    {
      "cell_type": "code",
      "metadata": {
        "id": "dXfKmXWCsSFv",
        "colab_type": "code",
        "colab": {}
      },
      "source": [
        "  !git config --global user.email \"anna.rossudowska@gmail.com\"\n",
        "  !git config --global user.name \"Anna\""
      ],
      "execution_count": 0,
      "outputs": []
    },
    {
      "cell_type": "code",
      "metadata": {
        "id": "4yjj0Qfdse9F",
        "colab_type": "code",
        "outputId": "28bb7665-df39-434c-e74a-70679a3d8b7d",
        "colab": {
          "base_uri": "https://localhost:8080/",
          "height": 176
        }
      },
      "source": [
        "!git push -u origin master"
      ],
      "execution_count": 0,
      "outputs": [
        {
          "output_type": "stream",
          "text": [
            "Counting objects: 4, done.\n",
            "Delta compression using up to 2 threads.\n",
            "Compressing objects:  50% (1/2)   \rCompressing objects: 100% (2/2)   \rCompressing objects: 100% (2/2), done.\n",
            "Writing objects:  25% (1/4)   \rWriting objects:  50% (2/4)   \rWriting objects:  75% (3/4)   \rWriting objects: 100% (4/4)   \rWriting objects: 100% (4/4), 328 bytes | 109.00 KiB/s, done.\n",
            "Total 4 (delta 1), reused 0 (delta 0)\n",
            "remote: Resolving deltas: 100% (1/1), completed with 1 local object.\u001b[K\n",
            "To https://github.com/rossann9119/dw_matrix_car.git\n",
            "   1cd0fb9..1739e1a  master -> master\n",
            "Branch 'master' set up to track remote branch 'master' from 'origin'.\n"
          ],
          "name": "stdout"
        }
      ]
    },
    {
      "cell_type": "code",
      "metadata": {
        "id": "49LGcWmosusu",
        "colab_type": "code",
        "outputId": "8c9235db-b717-474e-f971-15fffc4205e8",
        "colab": {
          "base_uri": "https://localhost:8080/",
          "height": 52
        }
      },
      "source": [
        "cd data"
      ],
      "execution_count": 0,
      "outputs": [
        {
          "output_type": "stream",
          "text": [
            "[Errno 2] No such file or directory: 'data'\n",
            "/content/drive/My Drive/Colab Notebooks/matrix/matrix_two/dw_matrix_car/data\n"
          ],
          "name": "stdout"
        }
      ]
    },
    {
      "cell_type": "code",
      "metadata": {
        "id": "9VSPVaRysz7d",
        "colab_type": "code",
        "outputId": "e9e4d459-89c9-4b77-af5b-549bb3205b37",
        "colab": {
          "base_uri": "https://localhost:8080/",
          "height": 123
        }
      },
      "source": [
        "!curl -L http://bit.ly/dw_car_data -o car.h5"
      ],
      "execution_count": 0,
      "outputs": [
        {
          "output_type": "stream",
          "text": [
            "  % Total    % Received % Xferd  Average Speed   Time    Time     Time  Current\n",
            "                                 Dload  Upload   Total   Spent    Left  Speed\n",
            "100   152  100   152    0     0    546      0 --:--:-- --:--:-- --:--:--   546\n",
            "  0     0    0     0    0     0      0      0 --:--:-- --:--:-- --:--:--     0\n",
            "  0     0    0     0    0     0      0      0 --:--:-- --:--:-- --:--:--     0\n",
            "100 57.7M  100 57.7M    0     0  24.3M      0  0:00:02  0:00:02 --:--:-- 56.6M\n"
          ],
          "name": "stdout"
        }
      ]
    },
    {
      "cell_type": "code",
      "metadata": {
        "id": "-yBrylLstMwG",
        "colab_type": "code",
        "outputId": "39899b2e-3662-400e-ae15-5fa5c90820b9",
        "colab": {
          "base_uri": "https://localhost:8080/",
          "height": 52
        }
      },
      "source": [
        "ls -lh"
      ],
      "execution_count": 0,
      "outputs": [
        {
          "output_type": "stream",
          "text": [
            "total 58M\n",
            "-rw------- 1 root root 58M Mar  7 20:40 car.h5\n"
          ],
          "name": "stdout"
        }
      ]
    },
    {
      "cell_type": "code",
      "metadata": {
        "id": "S9q5Wz3TtQJL",
        "colab_type": "code",
        "colab": {}
      },
      "source": [
        "import pandas as pd"
      ],
      "execution_count": 0,
      "outputs": []
    },
    {
      "cell_type": "code",
      "metadata": {
        "id": "0Rnh1VxxudW0",
        "colab_type": "code",
        "outputId": "3705ece3-68ef-458d-a7d5-37084104d1e5",
        "colab": {
          "base_uri": "https://localhost:8080/",
          "height": 34
        }
      },
      "source": [
        "ls"
      ],
      "execution_count": 0,
      "outputs": [
        {
          "output_type": "stream",
          "text": [
            "car.h5\n"
          ],
          "name": "stdout"
        }
      ]
    },
    {
      "cell_type": "code",
      "metadata": {
        "id": "kVs6wEwStUuI",
        "colab_type": "code",
        "outputId": "5f99c8f6-60b3-49cf-a3c8-dce552d1b82c",
        "colab": {
          "base_uri": "https://localhost:8080/",
          "height": 34
        }
      },
      "source": [
        "df = pd.read_hdf('car.h5')\n",
        "df.shape"
      ],
      "execution_count": 0,
      "outputs": [
        {
          "output_type": "execute_result",
          "data": {
            "text/plain": [
              "(106494, 155)"
            ]
          },
          "metadata": {
            "tags": []
          },
          "execution_count": 33
        }
      ]
    },
    {
      "cell_type": "code",
      "metadata": {
        "id": "xLM3zvLUtchz",
        "colab_type": "code",
        "outputId": "a37617ed-9383-4445-dc62-6e2ec848cd12",
        "colab": {
          "base_uri": "https://localhost:8080/",
          "height": 302
        }
      },
      "source": [
        "!pip install --upgrade tables"
      ],
      "execution_count": 0,
      "outputs": [
        {
          "output_type": "stream",
          "text": [
            "Collecting tables\n",
            "\u001b[?25l  Downloading https://files.pythonhosted.org/packages/ed/c3/8fd9e3bb21872f9d69eb93b3014c86479864cca94e625fd03713ccacec80/tables-3.6.1-cp36-cp36m-manylinux1_x86_64.whl (4.3MB)\n",
            "\u001b[K     |████████████████████████████████| 4.3MB 2.8MB/s \n",
            "\u001b[?25hRequirement already satisfied, skipping upgrade: numexpr>=2.6.2 in /usr/local/lib/python3.6/dist-packages (from tables) (2.7.1)\n",
            "Requirement already satisfied, skipping upgrade: numpy>=1.9.3 in /usr/local/lib/python3.6/dist-packages (from tables) (1.17.5)\n",
            "Installing collected packages: tables\n",
            "  Found existing installation: tables 3.4.4\n",
            "    Uninstalling tables-3.4.4:\n",
            "      Successfully uninstalled tables-3.4.4\n",
            "Successfully installed tables-3.6.1\n"
          ],
          "name": "stdout"
        },
        {
          "output_type": "display_data",
          "data": {
            "application/vnd.colab-display-data+json": {
              "pip_warning": {
                "packages": [
                  "tables"
                ]
              }
            }
          },
          "metadata": {
            "tags": []
          }
        }
      ]
    },
    {
      "cell_type": "code",
      "metadata": {
        "id": "r90IVfXDu0Jz",
        "colab_type": "code",
        "outputId": "75a361e7-b031-4cbf-cf00-eea281f7776e",
        "colab": {
          "base_uri": "https://localhost:8080/",
          "height": 630
        }
      },
      "source": [
        "df.sample(5)"
      ],
      "execution_count": 0,
      "outputs": [
        {
          "output_type": "execute_result",
          "data": {
            "text/html": [
              "<div>\n",
              "<style scoped>\n",
              "    .dataframe tbody tr th:only-of-type {\n",
              "        vertical-align: middle;\n",
              "    }\n",
              "\n",
              "    .dataframe tbody tr th {\n",
              "        vertical-align: top;\n",
              "    }\n",
              "\n",
              "    .dataframe thead th {\n",
              "        text-align: right;\n",
              "    }\n",
              "</style>\n",
              "<table border=\"1\" class=\"dataframe\">\n",
              "  <thead>\n",
              "    <tr style=\"text-align: right;\">\n",
              "      <th></th>\n",
              "      <th>breadcrumb</th>\n",
              "      <th>created_at</th>\n",
              "      <th>price_currency</th>\n",
              "      <th>price_details</th>\n",
              "      <th>price_value</th>\n",
              "      <th>seller_address</th>\n",
              "      <th>seller_name</th>\n",
              "      <th>seller_type</th>\n",
              "      <th>feature_czujniki-parkowania-przednie</th>\n",
              "      <th>feature_poduszka-powietrzna-chroniąca-kolana</th>\n",
              "      <th>feature_kurtyny-powietrzne</th>\n",
              "      <th>feature_klimatyzacja-dwustrefowa</th>\n",
              "      <th>feature_światła-led</th>\n",
              "      <th>feature_czujnik-zmierzchu</th>\n",
              "      <th>feature_elektrycznie-ustawiane-lusterka</th>\n",
              "      <th>feature_asr-(kontrola-trakcji)</th>\n",
              "      <th>feature_poduszka-powietrzna-kierowcy</th>\n",
              "      <th>feature_cd</th>\n",
              "      <th>feature_elektryczne-szyby-przednie</th>\n",
              "      <th>feature_poduszka-powietrzna-pasażera</th>\n",
              "      <th>feature_system-start-stop</th>\n",
              "      <th>feature_światła-do-jazdy-dziennej</th>\n",
              "      <th>feature_komputer-pokładowy</th>\n",
              "      <th>feature_elektryczne-szyby-tylne</th>\n",
              "      <th>feature_klimatyzacja-manualna</th>\n",
              "      <th>feature_tapicerka-welurowa</th>\n",
              "      <th>feature_czujnik-deszczu</th>\n",
              "      <th>feature_światła-przeciwmgielne</th>\n",
              "      <th>feature_ogrzewanie-postojowe</th>\n",
              "      <th>feature_radio-niefabryczne</th>\n",
              "      <th>feature_regulowane-zawieszenie</th>\n",
              "      <th>feature_ogranicznik-prędkości</th>\n",
              "      <th>feature_zmieniarka-cd</th>\n",
              "      <th>feature_szyberdach</th>\n",
              "      <th>feature_isofix</th>\n",
              "      <th>feature_asystent-pasa-ruchu</th>\n",
              "      <th>feature_alufelgi</th>\n",
              "      <th>feature_bluetooth</th>\n",
              "      <th>feature_nawigacja-gps</th>\n",
              "      <th>feature_asystent-parkowania</th>\n",
              "      <th>...</th>\n",
              "      <th>param_particle-filter</th>\n",
              "      <th>param_zarejestrowany-w-polsce</th>\n",
              "      <th>param_oferta-od</th>\n",
              "      <th>param_moc</th>\n",
              "      <th>param_make</th>\n",
              "      <th>param_kraj-pochodzenia</th>\n",
              "      <th>param_engine-power</th>\n",
              "      <th>param_year</th>\n",
              "      <th>param_serwisowany-w-aso</th>\n",
              "      <th>param_rodzaj-paliwa</th>\n",
              "      <th>param_możliwość-finansowania</th>\n",
              "      <th>param_registered-in-poland</th>\n",
              "      <th>param_transmission</th>\n",
              "      <th>param_miesięczna-rata</th>\n",
              "      <th>param_kod-silnika</th>\n",
              "      <th>param_version</th>\n",
              "      <th>param_opłata-początkowa</th>\n",
              "      <th>param_model-pojazdu</th>\n",
              "      <th>param_pojemność-skokowa</th>\n",
              "      <th>param_kierownica-po-prawej-(anglik)</th>\n",
              "      <th>param_fuel-type</th>\n",
              "      <th>param_vat-free</th>\n",
              "      <th>param_acrylic</th>\n",
              "      <th>param_damaged</th>\n",
              "      <th>param_door-count</th>\n",
              "      <th>param_tuning</th>\n",
              "      <th>param_filtr-cząstek-stałych</th>\n",
              "      <th>param_nr-of-seats</th>\n",
              "      <th>param_kolor</th>\n",
              "      <th>param_engine-capacity</th>\n",
              "      <th>param_pearl</th>\n",
              "      <th>param_stan</th>\n",
              "      <th>param_wersja</th>\n",
              "      <th>param_emisja-co2</th>\n",
              "      <th>param_body-type</th>\n",
              "      <th>param_matowy</th>\n",
              "      <th>param_bezwypadkowy</th>\n",
              "      <th>param_akryl-(niemetalizowany)</th>\n",
              "      <th>param_monthly-payment-value</th>\n",
              "      <th>car_id</th>\n",
              "    </tr>\n",
              "  </thead>\n",
              "  <tbody>\n",
              "    <tr>\n",
              "      <th>134823</th>\n",
              "      <td>[Osobowe, Ford, C-MAX, Ford C-MAX I (2003-2010)]</td>\n",
              "      <td>11:14, 27 lutego 2018</td>\n",
              "      <td>PLN</td>\n",
              "      <td>Cena Brutto</td>\n",
              "      <td>11900.0</td>\n",
              "      <td>ul. Żwirowa 2 - 86-134  Dolna Grupa, świecki, ...</td>\n",
              "      <td>Auto Wiktoria</td>\n",
              "      <td>Dealer</td>\n",
              "      <td>False</td>\n",
              "      <td>False</td>\n",
              "      <td>True</td>\n",
              "      <td>False</td>\n",
              "      <td>False</td>\n",
              "      <td>False</td>\n",
              "      <td>True</td>\n",
              "      <td>False</td>\n",
              "      <td>True</td>\n",
              "      <td>True</td>\n",
              "      <td>True</td>\n",
              "      <td>True</td>\n",
              "      <td>False</td>\n",
              "      <td>False</td>\n",
              "      <td>True</td>\n",
              "      <td>False</td>\n",
              "      <td>True</td>\n",
              "      <td>False</td>\n",
              "      <td>False</td>\n",
              "      <td>False</td>\n",
              "      <td>False</td>\n",
              "      <td>False</td>\n",
              "      <td>False</td>\n",
              "      <td>False</td>\n",
              "      <td>False</td>\n",
              "      <td>False</td>\n",
              "      <td>False</td>\n",
              "      <td>False</td>\n",
              "      <td>False</td>\n",
              "      <td>False</td>\n",
              "      <td>False</td>\n",
              "      <td>False</td>\n",
              "      <td>...</td>\n",
              "      <td>None</td>\n",
              "      <td>None</td>\n",
              "      <td>Firmy</td>\n",
              "      <td>120 KM</td>\n",
              "      <td>None</td>\n",
              "      <td>Niemcy</td>\n",
              "      <td>None</td>\n",
              "      <td>None</td>\n",
              "      <td>None</td>\n",
              "      <td>Benzyna</td>\n",
              "      <td>None</td>\n",
              "      <td>None</td>\n",
              "      <td>None</td>\n",
              "      <td>None</td>\n",
              "      <td>None</td>\n",
              "      <td>None</td>\n",
              "      <td>None</td>\n",
              "      <td>C-MAX</td>\n",
              "      <td>1 800 cm3</td>\n",
              "      <td>None</td>\n",
              "      <td>None</td>\n",
              "      <td>None</td>\n",
              "      <td>None</td>\n",
              "      <td>None</td>\n",
              "      <td>None</td>\n",
              "      <td>None</td>\n",
              "      <td>None</td>\n",
              "      <td>None</td>\n",
              "      <td>Srebrny</td>\n",
              "      <td>None</td>\n",
              "      <td>None</td>\n",
              "      <td>Używane</td>\n",
              "      <td>I (2003-2010)</td>\n",
              "      <td>None</td>\n",
              "      <td>None</td>\n",
              "      <td>None</td>\n",
              "      <td>None</td>\n",
              "      <td>None</td>\n",
              "      <td>None</td>\n",
              "      <td>134823</td>\n",
              "    </tr>\n",
              "    <tr>\n",
              "      <th>7568</th>\n",
              "      <td>[Osobowe, Volkswagen, Touran, Volkswagen Toura...</td>\n",
              "      <td>13:22, 2 marca 2018</td>\n",
              "      <td>PLN</td>\n",
              "      <td>Cena Brutto</td>\n",
              "      <td>18800.0</td>\n",
              "      <td>Mielec, mielecki, Podkarpackie</td>\n",
              "      <td>None</td>\n",
              "      <td>Osoba prywatna</td>\n",
              "      <td>False</td>\n",
              "      <td>False</td>\n",
              "      <td>True</td>\n",
              "      <td>True</td>\n",
              "      <td>True</td>\n",
              "      <td>True</td>\n",
              "      <td>True</td>\n",
              "      <td>True</td>\n",
              "      <td>True</td>\n",
              "      <td>True</td>\n",
              "      <td>True</td>\n",
              "      <td>True</td>\n",
              "      <td>False</td>\n",
              "      <td>True</td>\n",
              "      <td>True</td>\n",
              "      <td>True</td>\n",
              "      <td>False</td>\n",
              "      <td>True</td>\n",
              "      <td>True</td>\n",
              "      <td>True</td>\n",
              "      <td>True</td>\n",
              "      <td>False</td>\n",
              "      <td>False</td>\n",
              "      <td>False</td>\n",
              "      <td>False</td>\n",
              "      <td>False</td>\n",
              "      <td>True</td>\n",
              "      <td>False</td>\n",
              "      <td>True</td>\n",
              "      <td>True</td>\n",
              "      <td>True</td>\n",
              "      <td>False</td>\n",
              "      <td>...</td>\n",
              "      <td>None</td>\n",
              "      <td>Tak</td>\n",
              "      <td>Osoby prywatnej</td>\n",
              "      <td>140 KM</td>\n",
              "      <td>None</td>\n",
              "      <td>Niemcy</td>\n",
              "      <td>None</td>\n",
              "      <td>None</td>\n",
              "      <td>None</td>\n",
              "      <td>Diesel</td>\n",
              "      <td>None</td>\n",
              "      <td>None</td>\n",
              "      <td>None</td>\n",
              "      <td>None</td>\n",
              "      <td>None</td>\n",
              "      <td>None</td>\n",
              "      <td>None</td>\n",
              "      <td>Touran</td>\n",
              "      <td>2 000 cm3</td>\n",
              "      <td>None</td>\n",
              "      <td>None</td>\n",
              "      <td>None</td>\n",
              "      <td>None</td>\n",
              "      <td>None</td>\n",
              "      <td>None</td>\n",
              "      <td>None</td>\n",
              "      <td>Tak</td>\n",
              "      <td>None</td>\n",
              "      <td>Szary</td>\n",
              "      <td>None</td>\n",
              "      <td>None</td>\n",
              "      <td>Używane</td>\n",
              "      <td>I (2003-2010)</td>\n",
              "      <td>None</td>\n",
              "      <td>None</td>\n",
              "      <td>None</td>\n",
              "      <td>None</td>\n",
              "      <td>None</td>\n",
              "      <td>None</td>\n",
              "      <td>7568</td>\n",
              "    </tr>\n",
              "    <tr>\n",
              "      <th>92376</th>\n",
              "      <td>[Osobowe, Audi, A3, Audi A3 8V (2012-)]</td>\n",
              "      <td>17:50, 27 lutego 2018</td>\n",
              "      <td>PLN</td>\n",
              "      <td>Cena Brutto, Do negocjacji</td>\n",
              "      <td>59900.0</td>\n",
              "      <td>ALEJA WOLNOŚCI 17E - 63-230 Witaszyce, jarociń...</td>\n",
              "      <td>CREAUTO PIOTR GRUSZCZYŃSKI</td>\n",
              "      <td>Dealer</td>\n",
              "      <td>False</td>\n",
              "      <td>False</td>\n",
              "      <td>True</td>\n",
              "      <td>False</td>\n",
              "      <td>False</td>\n",
              "      <td>False</td>\n",
              "      <td>True</td>\n",
              "      <td>True</td>\n",
              "      <td>True</td>\n",
              "      <td>True</td>\n",
              "      <td>True</td>\n",
              "      <td>True</td>\n",
              "      <td>True</td>\n",
              "      <td>True</td>\n",
              "      <td>True</td>\n",
              "      <td>True</td>\n",
              "      <td>True</td>\n",
              "      <td>True</td>\n",
              "      <td>True</td>\n",
              "      <td>True</td>\n",
              "      <td>False</td>\n",
              "      <td>False</td>\n",
              "      <td>False</td>\n",
              "      <td>True</td>\n",
              "      <td>False</td>\n",
              "      <td>False</td>\n",
              "      <td>True</td>\n",
              "      <td>False</td>\n",
              "      <td>True</td>\n",
              "      <td>False</td>\n",
              "      <td>False</td>\n",
              "      <td>False</td>\n",
              "      <td>...</td>\n",
              "      <td>None</td>\n",
              "      <td>Tak</td>\n",
              "      <td>Firmy</td>\n",
              "      <td>110 KM</td>\n",
              "      <td>None</td>\n",
              "      <td>Włochy</td>\n",
              "      <td>None</td>\n",
              "      <td>None</td>\n",
              "      <td>None</td>\n",
              "      <td>Diesel</td>\n",
              "      <td>None</td>\n",
              "      <td>None</td>\n",
              "      <td>None</td>\n",
              "      <td>None</td>\n",
              "      <td>None</td>\n",
              "      <td>None</td>\n",
              "      <td>None</td>\n",
              "      <td>A3</td>\n",
              "      <td>1 598 cm3</td>\n",
              "      <td>None</td>\n",
              "      <td>None</td>\n",
              "      <td>None</td>\n",
              "      <td>None</td>\n",
              "      <td>None</td>\n",
              "      <td>None</td>\n",
              "      <td>None</td>\n",
              "      <td>None</td>\n",
              "      <td>None</td>\n",
              "      <td>Srebrny</td>\n",
              "      <td>None</td>\n",
              "      <td>None</td>\n",
              "      <td>Używane</td>\n",
              "      <td>8V (2012-)</td>\n",
              "      <td>None</td>\n",
              "      <td>None</td>\n",
              "      <td>None</td>\n",
              "      <td>None</td>\n",
              "      <td>None</td>\n",
              "      <td>None</td>\n",
              "      <td>92376</td>\n",
              "    </tr>\n",
              "    <tr>\n",
              "      <th>96050</th>\n",
              "      <td>[Osobowe, BMW, Seria 3, 325, BMW Seria 3 E90 (...</td>\n",
              "      <td>18:19, 5 marca 2018</td>\n",
              "      <td>PLN</td>\n",
              "      <td>Cena Brutto, Do negocjacji</td>\n",
              "      <td>22700.0</td>\n",
              "      <td>Międzyborów, grodziski, Mazowieckie</td>\n",
              "      <td>None</td>\n",
              "      <td>Osoba prywatna</td>\n",
              "      <td>True</td>\n",
              "      <td>False</td>\n",
              "      <td>True</td>\n",
              "      <td>True</td>\n",
              "      <td>False</td>\n",
              "      <td>True</td>\n",
              "      <td>True</td>\n",
              "      <td>True</td>\n",
              "      <td>True</td>\n",
              "      <td>True</td>\n",
              "      <td>True</td>\n",
              "      <td>True</td>\n",
              "      <td>True</td>\n",
              "      <td>True</td>\n",
              "      <td>True</td>\n",
              "      <td>True</td>\n",
              "      <td>False</td>\n",
              "      <td>False</td>\n",
              "      <td>True</td>\n",
              "      <td>True</td>\n",
              "      <td>True</td>\n",
              "      <td>False</td>\n",
              "      <td>False</td>\n",
              "      <td>False</td>\n",
              "      <td>False</td>\n",
              "      <td>False</td>\n",
              "      <td>False</td>\n",
              "      <td>False</td>\n",
              "      <td>True</td>\n",
              "      <td>False</td>\n",
              "      <td>True</td>\n",
              "      <td>False</td>\n",
              "      <td>...</td>\n",
              "      <td>None</td>\n",
              "      <td>Tak</td>\n",
              "      <td>Osoby prywatnej</td>\n",
              "      <td>218 KM</td>\n",
              "      <td>None</td>\n",
              "      <td>None</td>\n",
              "      <td>None</td>\n",
              "      <td>None</td>\n",
              "      <td>None</td>\n",
              "      <td>Benzyna+LPG</td>\n",
              "      <td>None</td>\n",
              "      <td>None</td>\n",
              "      <td>None</td>\n",
              "      <td>None</td>\n",
              "      <td>325</td>\n",
              "      <td>None</td>\n",
              "      <td>None</td>\n",
              "      <td>Seria 3</td>\n",
              "      <td>2 500 cm3</td>\n",
              "      <td>None</td>\n",
              "      <td>None</td>\n",
              "      <td>None</td>\n",
              "      <td>None</td>\n",
              "      <td>None</td>\n",
              "      <td>None</td>\n",
              "      <td>None</td>\n",
              "      <td>None</td>\n",
              "      <td>None</td>\n",
              "      <td>Czerwony</td>\n",
              "      <td>None</td>\n",
              "      <td>None</td>\n",
              "      <td>Używane</td>\n",
              "      <td>E90 (2005-2012)</td>\n",
              "      <td>None</td>\n",
              "      <td>None</td>\n",
              "      <td>None</td>\n",
              "      <td>None</td>\n",
              "      <td>None</td>\n",
              "      <td>None</td>\n",
              "      <td>96050</td>\n",
              "    </tr>\n",
              "    <tr>\n",
              "      <th>13202</th>\n",
              "      <td>[Osobowe, Honda, CR-V, Honda CR-V III (2006-20...</td>\n",
              "      <td>18:31, 3 marca 2018</td>\n",
              "      <td>PLN</td>\n",
              "      <td>Cena Brutto, Do negocjacji</td>\n",
              "      <td>35900.0</td>\n",
              "      <td>Lipno, lipnowski, Kujawsko-pomorskie</td>\n",
              "      <td>None</td>\n",
              "      <td>Osoba prywatna</td>\n",
              "      <td>False</td>\n",
              "      <td>False</td>\n",
              "      <td>False</td>\n",
              "      <td>True</td>\n",
              "      <td>False</td>\n",
              "      <td>True</td>\n",
              "      <td>True</td>\n",
              "      <td>True</td>\n",
              "      <td>True</td>\n",
              "      <td>True</td>\n",
              "      <td>True</td>\n",
              "      <td>True</td>\n",
              "      <td>False</td>\n",
              "      <td>False</td>\n",
              "      <td>True</td>\n",
              "      <td>True</td>\n",
              "      <td>False</td>\n",
              "      <td>False</td>\n",
              "      <td>True</td>\n",
              "      <td>True</td>\n",
              "      <td>False</td>\n",
              "      <td>False</td>\n",
              "      <td>False</td>\n",
              "      <td>False</td>\n",
              "      <td>False</td>\n",
              "      <td>False</td>\n",
              "      <td>False</td>\n",
              "      <td>False</td>\n",
              "      <td>True</td>\n",
              "      <td>False</td>\n",
              "      <td>False</td>\n",
              "      <td>False</td>\n",
              "      <td>...</td>\n",
              "      <td>None</td>\n",
              "      <td>None</td>\n",
              "      <td>Osoby prywatnej</td>\n",
              "      <td>140 KM</td>\n",
              "      <td>None</td>\n",
              "      <td>None</td>\n",
              "      <td>None</td>\n",
              "      <td>None</td>\n",
              "      <td>Tak</td>\n",
              "      <td>Diesel</td>\n",
              "      <td>None</td>\n",
              "      <td>None</td>\n",
              "      <td>None</td>\n",
              "      <td>None</td>\n",
              "      <td>None</td>\n",
              "      <td>None</td>\n",
              "      <td>None</td>\n",
              "      <td>CR-V</td>\n",
              "      <td>2 200 cm3</td>\n",
              "      <td>None</td>\n",
              "      <td>None</td>\n",
              "      <td>None</td>\n",
              "      <td>None</td>\n",
              "      <td>None</td>\n",
              "      <td>None</td>\n",
              "      <td>None</td>\n",
              "      <td>None</td>\n",
              "      <td>None</td>\n",
              "      <td>Szary</td>\n",
              "      <td>None</td>\n",
              "      <td>None</td>\n",
              "      <td>Używane</td>\n",
              "      <td>III (2006-2012)</td>\n",
              "      <td>None</td>\n",
              "      <td>None</td>\n",
              "      <td>None</td>\n",
              "      <td>Tak</td>\n",
              "      <td>None</td>\n",
              "      <td>None</td>\n",
              "      <td>13202</td>\n",
              "    </tr>\n",
              "  </tbody>\n",
              "</table>\n",
              "<p>5 rows × 155 columns</p>\n",
              "</div>"
            ],
            "text/plain": [
              "                                               breadcrumb  ...  car_id\n",
              "134823   [Osobowe, Ford, C-MAX, Ford C-MAX I (2003-2010)]  ...  134823\n",
              "7568    [Osobowe, Volkswagen, Touran, Volkswagen Toura...  ...    7568\n",
              "92376             [Osobowe, Audi, A3, Audi A3 8V (2012-)]  ...   92376\n",
              "96050   [Osobowe, BMW, Seria 3, 325, BMW Seria 3 E90 (...  ...   96050\n",
              "13202   [Osobowe, Honda, CR-V, Honda CR-V III (2006-20...  ...   13202\n",
              "\n",
              "[5 rows x 155 columns]"
            ]
          },
          "metadata": {
            "tags": []
          },
          "execution_count": 34
        }
      ]
    },
    {
      "cell_type": "code",
      "metadata": {
        "id": "esA8RtIKChB4",
        "colab_type": "code",
        "colab": {
          "base_uri": "https://localhost:8080/",
          "height": 158
        },
        "outputId": "7a253b46-76f1-4286-d483-5b6b22ec5409"
      },
      "source": [
        "!git add day2_visualization.ipynb\n",
        "!git commit -m \"add visualisation\""
      ],
      "execution_count": 35,
      "outputs": [
        {
          "output_type": "stream",
          "text": [
            "fatal: pathspec 'day2_visualization.ipynb' did not match any files\n",
            "On branch master\n",
            "Your branch is up to date with 'origin/master'.\n",
            "\n",
            "Untracked files:\n",
            "\t\u001b[31m../day2_visualisation.ipynb\u001b[m\n",
            "\n",
            "nothing added to commit but untracked files present\n"
          ],
          "name": "stdout"
        }
      ]
    },
    {
      "cell_type": "code",
      "metadata": {
        "id": "PWdgTHNmC0IA",
        "colab_type": "code",
        "colab": {
          "base_uri": "https://localhost:8080/",
          "height": 52
        },
        "outputId": "8095fb75-8baa-4757-eed4-7313bee67f23"
      },
      "source": [
        "!git push -u origin master"
      ],
      "execution_count": 36,
      "outputs": [
        {
          "output_type": "stream",
          "text": [
            "Branch 'master' set up to track remote branch 'master' from 'origin'.\n",
            "Everything up-to-date\n"
          ],
          "name": "stdout"
        }
      ]
    }
  ]
}